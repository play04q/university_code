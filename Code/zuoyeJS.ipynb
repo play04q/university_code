{
 "cells": [
  {
   "cell_type": "code",
   "execution_count": null,
   "metadata": {},
   "outputs": [],
   "source": [
    "#雷达作业\n",
    "a=10*0.05*15*3.1419526585*0.254**2*3\n",
    "b=56*290*1.38e-23*10**0.8*10**0.5*200*200/(57.296**2)\n",
    "c=a/b\n",
    "print(c)\n",
    "d=(c/(10**1.5))**(1/4)\n",
    "print(d)\n",
    "e=(3*((3.19e-3)**2))/(0.254**2*12.185)\n",
    "print(e)"
   ]
  },
  {
   "cell_type": "code",
   "execution_count": null,
   "metadata": {},
   "outputs": [],
   "source": [
    "#引信3\n",
    "fai=1.03+2.6/(3*9.5)\n",
    "Fsm=(1.27*3.1415926*(0.085**2)*300e6)/(4*fai*9.5)\n",
    "print(Fsm)"
   ]
  },
  {
   "cell_type": "code",
   "execution_count": null,
   "metadata": {},
   "outputs": [],
   "source": [
    "#弹道学5\n",
    "H=(33.3/12.7)+(9.5/12.7)-0.3\n",
    "print(H)\n",
    "i=2.9-1.373*H+0.32*(H**2)-0.0267*(H**3)\n",
    "print(i)"
   ]
  },
  {
   "cell_type": "code",
   "execution_count": null,
   "metadata": {},
   "outputs": [],
   "source": [
    "#插值y=kx+b\n",
    "x1=5\n",
    "y1=2.7877\n",
    "x2=10\n",
    "y2=4.7216\n",
    "vc0=6\n",
    "k=(y2-y1)/(x2-x1)\n",
    "b=y1-x1*k\n",
    "jg=k*vc0+b\n",
    "print(jg)"
   ]
  },
  {
   "cell_type": "code",
   "execution_count": null,
   "metadata": {},
   "outputs": [],
   "source": [
    "import numpy as np\n",
    "from scipy.integrate import odeint\n",
    " \n",
    "# 定义微分方程 dy/dt = f(y, t)\n",
    "def f(y, t):\n",
    "    V, V_dot = y\n",
    "    k = 1.0  # 示例系数\n",
    "    return [\n",
    "        V_dot,\n",
    "        -k * V * (1 - V**2) * V_dot**2 + np.cos(t)  # 这里假设外部作用力为 cos(t)\n",
    "    ]\n",
    " \n",
    "# 初始条件和时间区间\n",
    "y0 = [0.5, 0.1]  # 初始状态和导数\n",
    "t = np.linspace(0, 10, 1000)  # 时间区间\n",
    " \n",
    "# 使用 odeint 求解\n",
    "solution = odeint(f, y0, t)\n",
    " \n",
    "# 可视化结果\n",
    "import matplotlib.pyplot as plt\n",
    "plt.plot(t, solution[:, 0], label='V')  # V 的变化\n",
    "plt.plot(t, solution[:, 1], label='V_dot')  # V 的导数变化\n",
    "plt.legend()\n",
    "plt.show()"
   ]
  }
 ],
 "metadata": {
  "kernelspec": {
   "display_name": "new",
   "language": "python",
   "name": "python3"
  },
  "language_info": {
   "codemirror_mode": {
    "name": "ipython",
    "version": 3
   },
   "file_extension": ".py",
   "mimetype": "text/x-python",
   "name": "python",
   "nbconvert_exporter": "python",
   "pygments_lexer": "ipython3",
   "version": "undefined.undefined.undefined"
  }
 },
 "nbformat": 4,
 "nbformat_minor": 2
}
